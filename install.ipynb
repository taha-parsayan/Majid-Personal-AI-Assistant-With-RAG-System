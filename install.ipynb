{
 "cells": [
  {
   "cell_type": "code",
   "execution_count": null,
   "id": "65690435",
   "metadata": {},
   "outputs": [],
   "source": [
    "pip --version"
   ]
  },
  {
   "cell_type": "code",
   "execution_count": null,
   "id": "7838fbd6",
   "metadata": {},
   "outputs": [],
   "source": [
    "pip install python-dotenv langchain langchain-community langchain-openai langchain-tavily langchain-core faiss-cpu pypdf pdfplumber tavily-python openai requests\n"
   ]
  },
  {
   "cell_type": "code",
   "execution_count": null,
   "id": "662d960a",
   "metadata": {},
   "outputs": [],
   "source": [
    "! brew tap RhetTbull/macnotesapp https://github.com/RhetTbull/macnotesapp"
   ]
  },
  {
   "cell_type": "code",
   "execution_count": null,
   "id": "abd8b586",
   "metadata": {},
   "outputs": [],
   "source": [
    "pip install macnotesapp"
   ]
  }
 ],
 "metadata": {
  "kernelspec": {
   "display_name": ".venv",
   "language": "python",
   "name": "python3"
  },
  "language_info": {
   "codemirror_mode": {
    "name": "ipython",
    "version": 3
   },
   "file_extension": ".py",
   "mimetype": "text/x-python",
   "name": "python",
   "nbconvert_exporter": "python",
   "pygments_lexer": "ipython3",
   "version": "3.12.10"
  }
 },
 "nbformat": 4,
 "nbformat_minor": 5
}
