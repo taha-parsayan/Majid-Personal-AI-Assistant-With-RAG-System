{
 "cells": [
  {
   "cell_type": "markdown",
   "id": "2bbed3b6",
   "metadata": {},
   "source": [
    "# How to make the .exe file\n",
    "\n",
    "https://www.marinamele.com/from-a-python-script-to-a-portable-mac-application-with-py2app"
   ]
  },
  {
   "cell_type": "markdown",
   "id": "920c28e4",
   "metadata": {},
   "source": [
    "In the terminal:"
   ]
  },
  {
   "cell_type": "code",
   "execution_count": null,
   "id": "7a4249c1",
   "metadata": {
    "vscode": {
     "languageId": "plaintext"
    }
   },
   "outputs": [],
   "source": [
    "pip install -U py2app\n",
    "py2applet --make-setup main.py"
   ]
  },
  {
   "cell_type": "markdown",
   "id": "2842ea19",
   "metadata": {},
   "source": [
    "Modify the setup file:"
   ]
  },
  {
   "cell_type": "code",
   "execution_count": null,
   "id": "9d9ffa6c",
   "metadata": {
    "vscode": {
     "languageId": "plaintext"
    }
   },
   "outputs": [],
   "source": [
    "from setuptools import setup\n",
    "import glob, os, shutil\n",
    "\n",
    "APP = ['main.py']\n",
    "\n",
    "lib_path = '/opt/miniconda3/envs/majid/lib/'\n",
    "dest_path = 'dist/Majid.app/Contents/Frameworks/'\n",
    "os.makedirs(dest_path, exist_ok=True)\n",
    "\n",
    "for lib in ['libssl.3.dylib', 'libcrypto.3.dylib']:\n",
    "    src = os.path.join(lib_path, lib)\n",
    "    dst = os.path.join(dest_path, lib)\n",
    "    if os.path.exists(src) and not os.path.exists(dst):\n",
    "        shutil.copy(src, dst)\n",
    "\n",
    "src = '/opt/miniconda3/envs/majid/lib/libsqlite3.dylib'\n",
    "dst = '/opt/miniconda3/envs/majid/lib/libsqlite3.0.dylib'\n",
    "if os.path.exists(src) and not os.path.exists(dst):\n",
    "    shutil.copy(src, dst)\n",
    "\n",
    "DATA_FILES = [\n",
    "    'rump.py',\n",
    "    'chatbox_WEB.py',\n",
    "    'enter_api_WEB.py',\n",
    "    'langchain_functions.py',\n",
    "    ('icons', glob.glob('icons/*')),\n",
    "    '/opt/miniconda3/envs/majid/lib/libsqlite3.dylib',\n",
    "    ('charset_normalizer', glob.glob('/opt/miniconda3/envs/majid/lib/python3.12/site-packages/charset_normalizer/md__mypyc*.so')),\n",
    "    ('parsedatetime/pdt_locales', glob.glob('/opt/miniconda3/envs/majid/lib/python3.12/site-packages/parsedatetime/pdt_locales/*')),\n",
    "]\n",
    "\n",
    "OPTIONS = {\n",
    "    \"excludes\": [\n",
    "        \"setuptools\",\n",
    "        \"zmq\",\n",
    "        \"jupyter\",\n",
    "        \"pypdfium2\",\n",
    "        \"pypdfium2_raw\"\n",
    "    ],\n",
    "    'includes': [\n",
    "        'tiktoken_ext.openai_public',\n",
    "        'tiktoken_ext',\n",
    "        'langchain_community.document_loaders.pdf_plumber',\n",
    "        'langchain_community.document_loaders.pdf',\n",
    "        'pdfplumber',\n",
    "        'pdfminer',\n",
    "        'pdfminer.six',\n",
    "        'charset_normalizer',\n",
    "    ],\n",
    "    'argv_emulation': True,\n",
    "    'plist': {\n",
    "        'CFBundleName': 'Majid',\n",
    "        'CFBundleDisplayName': 'Majid',\n",
    "        'CFBundleIconFile': 'icons/App_icon.icns'\n",
    "    },\n",
    "    'packages': [\n",
    "'flask',\n",
    "        'parsedatetime',\n",
    "        'parsedatetime.pdt_locales',\n",
    "        'charset_normalizer',\n",
    "        'pdfplumber',\n",
    "        'pdfminer'\n",
    "    ],\n",
    "    'frameworks': [\n",
    "        '/opt/miniconda3/envs/majid/lib/libffi.8.dylib',\n",
    "        '/opt/miniconda3/envs/majid/lib/libssl.3.dylib',\n",
    "        '/opt/miniconda3/envs/majid/lib/libcrypto.3.dylib',\n",
    "        '/opt/miniconda3/envs/majid/lib/libsqlite3.0.dylib'\n",
    "    ],\n",
    "}\n",
    "\n",
    "setup(\n",
    "    app=APP,\n",
    "    data_files=DATA_FILES,\n",
    "    options={'py2app': OPTIONS},\n",
    "    setup_requires=['py2app'],\n",
    ")\n"
   ]
  },
  {
   "cell_type": "markdown",
   "id": "9fb348d3",
   "metadata": {},
   "source": [
    "Test if it works (only for testing):"
   ]
  },
  {
   "cell_type": "code",
   "execution_count": null,
   "id": "0b4cc87d",
   "metadata": {
    "vscode": {
     "languageId": "plaintext"
    }
   },
   "outputs": [],
   "source": [
    "python setup.py py2app -A"
   ]
  },
  {
   "cell_type": "markdown",
   "id": "8579db86",
   "metadata": {},
   "source": [
    "Then create the .exe file:"
   ]
  },
  {
   "cell_type": "code",
   "execution_count": null,
   "id": "9357fc5e",
   "metadata": {
    "vscode": {
     "languageId": "plaintext"
    }
   },
   "outputs": [],
   "source": [
    "python setup.py py2app"
   ]
  },
  {
   "cell_type": "markdown",
   "id": "c994fea6",
   "metadata": {},
   "source": [
    "# Writable vs. read-only folders"
   ]
  },
  {
   "cell_type": "markdown",
   "id": "08393581",
   "metadata": {},
   "source": [
    "All the files and data will be stored in a base folder. Therefore, we need to set the base folder for all external .py or data:"
   ]
  },
  {
   "cell_type": "code",
   "execution_count": null,
   "id": "36d89999",
   "metadata": {
    "vscode": {
     "languageId": "plaintext"
    }
   },
   "outputs": [],
   "source": [
    "\n",
    "        if getattr(sys, \"_MEIPASS\", False):\n",
    "            base_path = sys._MEIPASS\n",
    "        else:\n",
    "            base_path = os.path.dirname(os.path.abspath(__file__))\n",
    "\n",
    "        appIcon=os.path.join(base_path, \"icons\", \"Menu_icon.png\")"
   ]
  },
  {
   "cell_type": "markdown",
   "id": "26a5b04b",
   "metadata": {},
   "source": [
    "However, this folder is read-only!"
   ]
  },
  {
   "cell_type": "markdown",
   "id": "08fe5620",
   "metadata": {},
   "source": [
    "If we have files like .env that will be over written, they need to be in another document that is writable:"
   ]
  },
  {
   "cell_type": "code",
   "execution_count": null,
   "id": "eac2d2a6",
   "metadata": {
    "vscode": {
     "languageId": "plaintext"
    }
   },
   "outputs": [],
   "source": [
    "user_dir = os.path.expanduser(\"~/Library/Application Support/Majid\")\n",
    "os.makedirs(user_dir, exist_ok=True)\n",
    "env_path = os.path.join(user_dir, \".env\")\n",
    "\n",
    "# Load .env (create if missing)\n",
    "if not os.path.exists(env_path):\n",
    "    with open(env_path, \"w\") as f:\n",
    "        f.write(\"\")  # empty file placeholder\n",
    "load_dotenv(dotenv_path=env_path)"
   ]
  },
  {
   "cell_type": "markdown",
   "id": "3c329aa5",
   "metadata": {},
   "source": [
    "# Kill web pages\n",
    "\n",
    "If we use flask API and web based GUI, the ports remain occcupied. So if you see an error persisting, perhaps need to free the port first:"
   ]
  },
  {
   "cell_type": "code",
   "execution_count": null,
   "id": "030d8922",
   "metadata": {
    "vscode": {
     "languageId": "plaintext"
    }
   },
   "outputs": [],
   "source": [
    "\n",
    "def free_port(port):\n",
    "    try:\n",
    "        result = subprocess.run(\n",
    "            [\"lsof\", \"-ti\", f\"tcp:{port}\"],\n",
    "            capture_output=True,\n",
    "            text=True\n",
    "        )\n",
    "        pid = result.stdout.strip()\n",
    "        if pid:\n",
    "            subprocess.run([\"kill\", \"-9\", pid])\n",
    "            print(f\"Killed process {pid} using port {port}\")\n",
    "        else:\n",
    "            print(f\"No process found on port {port}\")\n",
    "    except Exception as e:\n",
    "        print(\"Error freeing port:\", e)\n",
    "\n",
    "#--------------------------------------------------\n",
    "# Run server\n",
    "#--------------------------------------------------\n",
    "if __name__ == \"__main__\":\n",
    "    free_port(5006)\n",
    "    webbrowser.open(\"http://127.0.0.1:5006\")\n",
    "    app.run(port=5006, debug=False)"
   ]
  },
  {
   "cell_type": "markdown",
   "id": "3f3a7351",
   "metadata": {},
   "source": [
    "# Biggest issue"
   ]
  },
  {
   "cell_type": "markdown",
   "id": "4303b274",
   "metadata": {},
   "source": [
    "The biggest issue I had was that the .exe file was working and everyhting BUT it could not sacn PDF files! It kept saying pdfplumber does not exists, although it did!\n",
    "The reason was that py2app is a bitch! I had to add these to solve the issue which took me 2 weeks:"
   ]
  },
  {
   "cell_type": "code",
   "execution_count": null,
   "id": "e9dd7b8e",
   "metadata": {
    "vscode": {
     "languageId": "plaintext"
    }
   },
   "outputs": [],
   "source": [
    "OPTIONS = {\n",
    "    \"excludes\": [\n",
    "        \"setuptools\",\n",
    "        \"zmq\",\n",
    "        \"jupyter\",\n",
    "        \"pypdfium2\",\n",
    "        \"pypdfium2_raw\"\n",
    "    ],\n",
    "    'includes': [\n",
    "        'tiktoken_ext.openai_public',\n",
    "        'tiktoken_ext',\n",
    "        'langchain_community.document_loaders.pdf_plumber',\n",
    "        'langchain_community.document_loaders.pdf',\n",
    "        'pdfplumber',\n",
    "        'pdfminer',\n",
    "        'pdfminer.six',\n",
    "        'charset_normalizer',\n",
    "    ],\n",
    "    'argv_emulation': True,\n",
    "    'plist': {\n",
    "        'CFBundleName': 'Majid',\n",
    "        'CFBundleDisplayName': 'Majid',\n",
    "        'CFBundleIconFile': 'icons/App_icon.icns'\n",
    "    },\n",
    "    'packages': [\n",
    "'flask',\n",
    "        'parsedatetime',\n",
    "        'parsedatetime.pdt_locales',\n",
    "        'charset_normalizer',\n",
    "        'pdfplumber',\n",
    "        'pdfminer'\n",
    "    ],\n",
    "    'frameworks': [\n",
    "        '/opt/miniconda3/envs/majid/lib/libffi.8.dylib',\n",
    "        '/opt/miniconda3/envs/majid/lib/libssl.3.dylib',\n",
    "        '/opt/miniconda3/envs/majid/lib/libcrypto.3.dylib',\n",
    "        '/opt/miniconda3/envs/majid/lib/libsqlite3.0.dylib'\n",
    "    ],\n",
    "}"
   ]
  }
 ],
 "metadata": {
  "language_info": {
   "name": "python"
  }
 },
 "nbformat": 4,
 "nbformat_minor": 5
}
